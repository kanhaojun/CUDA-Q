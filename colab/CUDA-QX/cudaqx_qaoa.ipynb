{
  "cells": [
    {
      "cell_type": "markdown",
      "metadata": {
        "id": "view-in-github",
        "colab_type": "text"
      },
      "source": [
        "<a href=\"https://colab.research.google.com/github/kanhaojun/CUDA-Q/blob/main/colab/CUDA-QX/cudaqx_qaoa.ipynb\" target=\"_parent\"><img src=\"https://colab.research.google.com/assets/colab-badge.svg\" alt=\"Open In Colab\"/></a>"
      ]
    },
    {
      "cell_type": "code",
      "execution_count": 7,
      "metadata": {
        "colab": {
          "base_uri": "https://localhost:8080/"
        },
        "id": "2JHNaUJjgL2Y",
        "outputId": "045efe15-888d-4365-b5a5-8048e14b077a"
      },
      "outputs": [
        {
          "output_type": "stream",
          "name": "stdout",
          "text": [
            "Requirement already satisfied: cudaq-solvers==0.1.0 in /usr/local/lib/python3.11/dist-packages (0.1.0)\n",
            "Requirement already satisfied: cuda-quantum-cu12~=0.9.0 in /usr/local/lib/python3.11/dist-packages (from cudaq-solvers==0.1.0) (0.9.1)\n",
            "Requirement already satisfied: fastapi in /usr/local/lib/python3.11/dist-packages (from cudaq-solvers==0.1.0) (0.115.11)\n",
            "Requirement already satisfied: networkx in /usr/local/lib/python3.11/dist-packages (from cudaq-solvers==0.1.0) (3.4.2)\n",
            "Requirement already satisfied: pyscf in /usr/local/lib/python3.11/dist-packages (from cudaq-solvers==0.1.0) (2.8.0)\n",
            "Requirement already satisfied: scipy in /usr/local/lib/python3.11/dist-packages (from cudaq-solvers==0.1.0) (1.13.1)\n",
            "Requirement already satisfied: uvicorn in /usr/local/lib/python3.11/dist-packages (from cudaq-solvers==0.1.0) (0.34.0)\n",
            "Requirement already satisfied: astpretty~=3.0 in /usr/local/lib/python3.11/dist-packages (from cuda-quantum-cu12~=0.9.0->cudaq-solvers==0.1.0) (3.0.0)\n",
            "Requirement already satisfied: cuquantum-python-cu12>=24.11 in /usr/local/lib/python3.11/dist-packages (from cuda-quantum-cu12~=0.9.0->cudaq-solvers==0.1.0) (24.11.0)\n",
            "Requirement already satisfied: numpy>=1.24 in /usr/local/lib/python3.11/dist-packages (from cuda-quantum-cu12~=0.9.0->cudaq-solvers==0.1.0) (1.26.4)\n",
            "Requirement already satisfied: requests>=2.31 in /usr/local/lib/python3.11/dist-packages (from cuda-quantum-cu12~=0.9.0->cudaq-solvers==0.1.0) (2.32.3)\n",
            "Requirement already satisfied: nvidia-cublas-cu12~=12.0 in /usr/local/lib/python3.11/dist-packages (from cuda-quantum-cu12~=0.9.0->cudaq-solvers==0.1.0) (12.5.3.2)\n",
            "Requirement already satisfied: nvidia-cuda-runtime-cu12~=12.0 in /usr/local/lib/python3.11/dist-packages (from cuda-quantum-cu12~=0.9.0->cudaq-solvers==0.1.0) (12.5.82)\n",
            "Requirement already satisfied: nvidia-cusolver-cu12~=11.4 in /usr/local/lib/python3.11/dist-packages (from cuda-quantum-cu12~=0.9.0->cudaq-solvers==0.1.0) (11.6.3.83)\n",
            "Requirement already satisfied: nvidia-cuda-nvrtc-cu12~=12.0 in /usr/local/lib/python3.11/dist-packages (from cuda-quantum-cu12~=0.9.0->cudaq-solvers==0.1.0) (12.5.82)\n",
            "Requirement already satisfied: starlette<0.47.0,>=0.40.0 in /usr/local/lib/python3.11/dist-packages (from fastapi->cudaq-solvers==0.1.0) (0.46.0)\n",
            "Requirement already satisfied: pydantic!=1.8,!=1.8.1,!=2.0.0,!=2.0.1,!=2.1.0,<3.0.0,>=1.7.4 in /usr/local/lib/python3.11/dist-packages (from fastapi->cudaq-solvers==0.1.0) (2.10.6)\n",
            "Requirement already satisfied: typing-extensions>=4.8.0 in /usr/local/lib/python3.11/dist-packages (from fastapi->cudaq-solvers==0.1.0) (4.12.2)\n",
            "Requirement already satisfied: h5py>=2.7 in /usr/local/lib/python3.11/dist-packages (from pyscf->cudaq-solvers==0.1.0) (3.12.1)\n",
            "Requirement already satisfied: setuptools in /usr/local/lib/python3.11/dist-packages (from pyscf->cudaq-solvers==0.1.0) (75.1.0)\n",
            "Requirement already satisfied: click>=7.0 in /usr/local/lib/python3.11/dist-packages (from uvicorn->cudaq-solvers==0.1.0) (8.1.8)\n",
            "Requirement already satisfied: h11>=0.8 in /usr/local/lib/python3.11/dist-packages (from uvicorn->cudaq-solvers==0.1.0) (0.14.0)\n",
            "Requirement already satisfied: custatevec-cu12~=1.7 in /usr/local/lib/python3.11/dist-packages (from cuquantum-python-cu12>=24.11->cuda-quantum-cu12~=0.9.0->cudaq-solvers==0.1.0) (1.7.0)\n",
            "Requirement already satisfied: cutensornet-cu12~=2.6 in /usr/local/lib/python3.11/dist-packages (from cuquantum-python-cu12>=24.11->cuda-quantum-cu12~=0.9.0->cudaq-solvers==0.1.0) (2.6.0)\n",
            "Requirement already satisfied: cudensitymat-cu12~=0.0.5 in /usr/local/lib/python3.11/dist-packages (from cuquantum-python-cu12>=24.11->cuda-quantum-cu12~=0.9.0->cudaq-solvers==0.1.0) (0.0.5)\n",
            "Requirement already satisfied: cupy-cuda12x>=13.0 in /usr/local/lib/python3.11/dist-packages (from cuquantum-python-cu12>=24.11->cuda-quantum-cu12~=0.9.0->cudaq-solvers==0.1.0) (13.3.0)\n",
            "Requirement already satisfied: nvidia-nvjitlink-cu12 in /usr/local/lib/python3.11/dist-packages (from nvidia-cusolver-cu12~=11.4->cuda-quantum-cu12~=0.9.0->cudaq-solvers==0.1.0) (12.5.82)\n",
            "Requirement already satisfied: nvidia-cusparse-cu12 in /usr/local/lib/python3.11/dist-packages (from nvidia-cusolver-cu12~=11.4->cuda-quantum-cu12~=0.9.0->cudaq-solvers==0.1.0) (12.5.1.3)\n",
            "Requirement already satisfied: annotated-types>=0.6.0 in /usr/local/lib/python3.11/dist-packages (from pydantic!=1.8,!=1.8.1,!=2.0.0,!=2.0.1,!=2.1.0,<3.0.0,>=1.7.4->fastapi->cudaq-solvers==0.1.0) (0.7.0)\n",
            "Requirement already satisfied: pydantic-core==2.27.2 in /usr/local/lib/python3.11/dist-packages (from pydantic!=1.8,!=1.8.1,!=2.0.0,!=2.0.1,!=2.1.0,<3.0.0,>=1.7.4->fastapi->cudaq-solvers==0.1.0) (2.27.2)\n",
            "Requirement already satisfied: charset-normalizer<4,>=2 in /usr/local/lib/python3.11/dist-packages (from requests>=2.31->cuda-quantum-cu12~=0.9.0->cudaq-solvers==0.1.0) (3.4.1)\n",
            "Requirement already satisfied: idna<4,>=2.5 in /usr/local/lib/python3.11/dist-packages (from requests>=2.31->cuda-quantum-cu12~=0.9.0->cudaq-solvers==0.1.0) (3.10)\n",
            "Requirement already satisfied: urllib3<3,>=1.21.1 in /usr/local/lib/python3.11/dist-packages (from requests>=2.31->cuda-quantum-cu12~=0.9.0->cudaq-solvers==0.1.0) (2.3.0)\n",
            "Requirement already satisfied: certifi>=2017.4.17 in /usr/local/lib/python3.11/dist-packages (from requests>=2.31->cuda-quantum-cu12~=0.9.0->cudaq-solvers==0.1.0) (2025.1.31)\n",
            "Requirement already satisfied: anyio<5,>=3.6.2 in /usr/local/lib/python3.11/dist-packages (from starlette<0.47.0,>=0.40.0->fastapi->cudaq-solvers==0.1.0) (3.7.1)\n",
            "Requirement already satisfied: sniffio>=1.1 in /usr/local/lib/python3.11/dist-packages (from anyio<5,>=3.6.2->starlette<0.47.0,>=0.40.0->fastapi->cudaq-solvers==0.1.0) (1.3.1)\n",
            "Requirement already satisfied: cutensor-cu12<3,>=2.0.2 in /usr/local/lib/python3.11/dist-packages (from cudensitymat-cu12~=0.0.5->cuquantum-python-cu12>=24.11->cuda-quantum-cu12~=0.9.0->cudaq-solvers==0.1.0) (2.0.2)\n",
            "Requirement already satisfied: fastrlock>=0.5 in /usr/local/lib/python3.11/dist-packages (from cupy-cuda12x>=13.0->cuquantum-python-cu12>=24.11->cuda-quantum-cu12~=0.9.0->cudaq-solvers==0.1.0) (0.8.3)\n"
          ]
        }
      ],
      "source": [
        "!pip install cudaq-solvers==0.1.0"
      ]
    },
    {
      "cell_type": "markdown",
      "metadata": {
        "id": "90-M1O-E0Lvv"
      },
      "source": [
        "# Quantum Approximate Optimization Algorithm"
      ]
    },
    {
      "cell_type": "markdown",
      "source": [
        "The **Quantum Approximate Optimization Algorithm (QAOA)** is a variational quantum algorithm designed to solve combinatorial optimization problems. It operates by alternating between two quantum operators:  \n",
        "1. **Cost Hamiltonian** – Encodes the problem constraints.  \n",
        "2. **Mixer Hamiltonian** – Introduces transitions between states.  \n",
        "\n",
        "By optimizing parameters in these operations, QAOA aims to find high-quality approximate solutions to problems like **Max-Cut** and **QUBO** (quadratic unconstrained binary optimization) on near-term quantum devices. To learn more details, [here](https://github.com/NVIDIA/cuda-q-academic/blob/main/qaoa-for-max-cut/01_Max-Cut-with-QAOA.ipynb) in a well-structured tutorial."
      ],
      "metadata": {
        "id": "ZharNsru4wPk"
      }
    },
    {
      "cell_type": "markdown",
      "source": [
        "The coefficient matrix for Max-Cut is constructed based on the graph structure using the standard QUBO formulation:  \n",
        "\n",
        "$$\n",
        "H = 1/2\\sum_{(i, j) \\in E} w_{ij}(I-Z_i Z_j)\n",
        "$$  \n",
        "\n",
        "where:\n",
        "- $Z_i$ represents the Pauli-Z operator for qubit (node) $i$.\n",
        "- Each edge $(i, j)$ contributes a term $w_{ij}(I-Z_i Z_j)/2$,  \n",
        "- If nodes $i$ and $j$ are assigned to different groups, they contribute a cut of weight $w_{ij}$; otherwise, the contribution is $0$.\n",
        "\n",
        "Let's start from an example graph:"
      ],
      "metadata": {
        "id": "Oj3-cJJI2EtX"
      }
    },
    {
      "cell_type": "code",
      "source": [
        "import networkx as nx\n",
        "\n",
        "\n",
        "G=nx.Graph()\n",
        "G.add_weighted_edges_from([(0, 1, 1), (1, 2, 1), (1, 4, 1), (2, 3, 1), (3, 4, 1), (4, 0, 1)])\n",
        "nx.draw(G, with_labels=True, alpha=0.8, node_size=500, node_color='#76B900')"
      ],
      "metadata": {
        "colab": {
          "base_uri": "https://localhost:8080/",
          "height": 516
        },
        "id": "t5eqQJxezJxi",
        "outputId": "a1b24364-623c-4f26-b78a-2dc34f372e52"
      },
      "execution_count": 8,
      "outputs": [
        {
          "output_type": "display_data",
          "data": {
            "text/plain": [
              "<Figure size 640x480 with 1 Axes>"
            ],
            "image/png": "[encoded data removed]"
          },
          "metadata": {}
        }
      ]
    },
    {
      "cell_type": "markdown",
      "source": [
        "Note that maximizing $H = \\frac{1}{2} \\sum_{(i, j) \\in E} w_{ij} (I - Z_i Z_j)$ is equivalent to simply minimizing $ \\sum_{(i, j) \\in E} w_{ij} Z_i Z_j$.\n",
        "Then we can construct the simplified Hamiltonian and the coefficient matrix accordingly:"
      ],
      "metadata": {
        "id": "H44M7VZv6Q36"
      }
    },
    {
      "cell_type": "code",
      "source": [
        "import numpy as np\n",
        "\n",
        "\n",
        "# Initialize coefficient matrix\n",
        "coefficient_matrix = np.zeros((G.number_of_nodes(), G.number_of_nodes()))\n",
        "\n",
        "# Fill the matrix with negative edge weights for Max-Cut\n",
        "for i, j, w in G.edges(data=True):\n",
        "    coefficient_matrix[i, j] = w['weight']\n",
        "    coefficient_matrix[j, i] = w['weight']  # Since the graph is undirected\n",
        "\n",
        "print(coefficient_matrix)"
      ],
      "metadata": {
        "colab": {
          "base_uri": "https://localhost:8080/"
        },
        "id": "PrcokPqD0Oqe",
        "outputId": "b19c28a7-94a9-4f62-b506-3c0992fb3862"
      },
      "execution_count": 9,
      "outputs": [
        {
          "output_type": "stream",
          "name": "stdout",
          "text": [
            "[[0. 1. 0. 0. 1.]\n",
            " [1. 0. 1. 0. 1.]\n",
            " [0. 1. 0. 1. 0.]\n",
            " [0. 0. 1. 0. 1.]\n",
            " [1. 1. 0. 1. 0.]]\n"
          ]
        }
      ]
    },
    {
      "cell_type": "code",
      "source": [
        "import cudaq\n",
        "from cudaq import spin\n",
        "\n",
        "\n",
        "# Flatten the coefficient matrix\n",
        "flattened_matrix = coefficient_matrix.flatten()\n",
        "\n",
        "# Number of qubits (original matrix is square)\n",
        "qubit_count = coefficient_matrix.shape[0]\n",
        "\n",
        "# Construct Hamiltonian using the flattened matrix\n",
        "hamiltonian = 0\n",
        "for idx, value in enumerate(flattened_matrix):\n",
        "    if value != 0:\n",
        "        i = idx // qubit_count  # Row index\n",
        "        j = idx % qubit_count   # Column index\n",
        "\n",
        "        if i == j:\n",
        "            hamiltonian += value * spin.z(i)  # First-order term\n",
        "        elif i < j:  # For symmetric matrices\n",
        "            hamiltonian += value * spin.z(i) * spin.z(j)  # Second-order term\n",
        "\n",
        "# Print the Hamiltonian\n",
        "print(\"Problem Hamiltonian:\", hamiltonian)"
      ],
      "metadata": {
        "colab": {
          "base_uri": "https://localhost:8080/"
        },
        "id": "Y6YKfd0sm8x6",
        "outputId": "95f02ce1-bd2b-4e0b-d839-13efacf96723"
      },
      "execution_count": 10,
      "outputs": [
        {
          "output_type": "stream",
          "name": "stdout",
          "text": [
            "Problem Hamiltonian: [1+0j] ZIIIZ\n",
            "[1+0j] IZZII\n",
            "[1+0j] IZIIZ\n",
            "[1+0j] IIIZZ\n",
            "[1+0j] IIZZI\n",
            "[1+0j] ZZIII\n",
            "[0+0j] IIIII\n",
            "\n"
          ]
        }
      ]
    },
    {
      "cell_type": "code",
      "execution_count": 11,
      "metadata": {
        "colab": {
          "base_uri": "https://localhost:8080/"
        },
        "id": "3fpifp_U0UKK",
        "outputId": "55aaaafb-c77f-4609-938e-a9f726a52a80"
      },
      "outputs": [
        {
          "output_type": "stream",
          "name": "stdout",
          "text": [
            "Initial parameters =  [ 0.21810696 -0.20613464  0.25468776  0.36579856]\n",
            "     ╭───╮                                                ╭────────────╮»\n",
            "q0 : ┤ h ├──●──────────────────●────●──────────────────●──┤ rx(0.5094) ├»\n",
            "     ├───┤╭─┴─╮╭────────────╮╭─┴─╮  │                  │  ╰────────────╯»\n",
            "q1 : ┤ h ├┤ x ├┤ rz(0.4362) ├┤ x ├──┼──────────────────┼────────●───────»\n",
            "     ├───┤╰───╯╰────────────╯╰───╯  │                  │      ╭─┴─╮     »\n",
            "q2 : ┤ h ├──────────────────────────┼──────────────────┼──────┤ x ├─────»\n",
            "     ├───┤                          │                  │      ╰───╯     »\n",
            "q3 : ┤ h ├──────────────────────────┼──────────────────┼────────────────»\n",
            "     ├───┤                        ╭─┴─╮╭────────────╮╭─┴─╮              »\n",
            "q4 : ┤ h ├────────────────────────┤ x ├┤ rz(0.4362) ├┤ x ├──────────────»\n",
            "     ╰───╯                        ╰───╯╰────────────╯╰───╯              »\n",
            "\n",
            "################################################################################\n",
            "\n",
            "                                                                       »\n",
            "───────────────────────────────────────────────────────────────●───────»\n",
            "                                           ╭────────────╮    ╭─┴─╮     »\n",
            "────────────────●────●──────────────────●──┤ rx(0.5094) ├────┤ x ├─────»\n",
            "╭────────────╮╭─┴─╮  │                  │  ╰────────────╯    ╰───╯     »\n",
            "┤ rz(0.4362) ├┤ x ├──┼──────────────────┼────────●─────────────────────»\n",
            "╰────────────╯╰───╯  │                  │      ╭─┴─╮     ╭────────────╮»\n",
            "─────────────────────┼──────────────────┼──────┤ x ├─────┤ rz(0.4362) ├»\n",
            "                   ╭─┴─╮╭────────────╮╭─┴─╮    ╰───╯     ╰────────────╯»\n",
            "───────────────────┤ x ├┤ rz(0.4362) ├┤ x ├────────────────────────────»\n",
            "                   ╰───╯╰────────────╯╰───╯                            »\n",
            "\n",
            "################################################################################\n",
            "\n",
            "                                                                   »\n",
            "─────────────────────●──────────────────────────────────────────●──»\n",
            "╭─────────────╮    ╭─┴─╮                                        │  »\n",
            "┤ rz(-0.4123) ├────┤ x ├────────────────────────────────────────┼──»\n",
            "╰─────────────╯╭───┴───┴────╮                                   │  »\n",
            "───────●───────┤ rx(0.5094) ├───────────────────────────────────┼──»\n",
            "     ╭─┴─╮     ╰────────────╯                   ╭────────────╮  │  »\n",
            "─────┤ x ├───────────●───────────────────────●──┤ rx(0.5094) ├──┼──»\n",
            "     ╰───╯         ╭─┴─╮     ╭────────────╮╭─┴─╮├────────────┤╭─┴─╮»\n",
            "───────────────────┤ x ├─────┤ rz(0.4362) ├┤ x ├┤ rx(0.5094) ├┤ x ├»\n",
            "                   ╰───╯     ╰────────────╯╰───╯╰────────────╯╰───╯»\n",
            "\n",
            "################################################################################\n",
            "\n",
            "                    ╭────────────╮                                        »\n",
            "─────────────────●──┤ rx(0.7316) ├────────────────────────────────────────»\n",
            "                 │  ╰────────────╯                                        »\n",
            "─────────────────┼────────●────────────────────────●────●─────────────────»\n",
            "                 │      ╭─┴─╮     ╭─────────────╮╭─┴─╮  │                 »\n",
            "─────────────────┼──────┤ x ├─────┤ rz(-0.4123) ├┤ x ├──┼─────────────────»\n",
            "                 │      ╰───╯     ╰─────────────╯╰───╯  │                 »\n",
            "─────────────────┼──────────────────────────────────────┼─────────────────»\n",
            "╭─────────────╮╭─┴─╮                                  ╭─┴─╮╭─────────────╮»\n",
            "┤ rz(-0.4123) ├┤ x ├──────────────────────────────────┤ x ├┤ rz(-0.4123) ├»\n",
            "╰─────────────╯╰───╯                                  ╰───╯╰─────────────╯»\n",
            "\n",
            "################################################################################\n",
            "\n",
            "                                                                         »\n",
            "─────────────────────────────────────────────────────────────────────────»\n",
            "     ╭────────────╮                                                      »\n",
            "──●──┤ rx(0.7316) ├──────────────────────────────────────────────────────»\n",
            "  │  ╰────────────╯                    ╭────────────╮                    »\n",
            "──┼────────●────────────────────────●──┤ rx(0.7316) ├────────────────────»\n",
            "  │      ╭─┴─╮     ╭─────────────╮╭─┴─╮╰────────────╯                    »\n",
            "──┼──────┤ x ├─────┤ rz(-0.4123) ├┤ x ├──────●────────────────────────●──»\n",
            "╭─┴─╮    ╰───╯     ╰─────────────╯╰───╯    ╭─┴─╮     ╭─────────────╮╭─┴─╮»\n",
            "┤ x ├──────────────────────────────────────┤ x ├─────┤ rz(-0.4123) ├┤ x ├»\n",
            "╰───╯                                      ╰───╯     ╰─────────────╯╰───╯»\n",
            "\n",
            "################################################################################\n",
            "\n",
            "              \n",
            "──────────────\n",
            "              \n",
            "──────────────\n",
            "              \n",
            "──────────────\n",
            "╭────────────╮\n",
            "┤ rx(0.7316) ├\n",
            "├────────────┤\n",
            "┤ rx(0.7316) ├\n",
            "╰────────────╯\n",
            "\n"
          ]
        }
      ],
      "source": [
        "import cudaq_solvers as solvers\n",
        "from scipy.optimize import minimize\n",
        "from typing import List\n",
        "\n",
        "\n",
        "# Parameters of QAOA\n",
        "layer_count = 2\n",
        "parameter_count = 2 * layer_count\n",
        "\n",
        "@cudaq.kernel\n",
        "def kernel_qaoa(thetas: List[float]):\n",
        "    \"\"\"QAOA ansatz for Max-Cut using the flattened coefficient matrix.\"\"\"\n",
        "    qvector = cudaq.qvector(qubit_count)\n",
        "\n",
        "    # Create superposition\n",
        "    h(qvector)\n",
        "\n",
        "    # Loop over layers\n",
        "    for layer in range(layer_count):\n",
        "        for idx, value in enumerate(flattened_matrix):\n",
        "            if value != 0:\n",
        "                i = idx // qubit_count  # Row index\n",
        "                j = idx % qubit_count   # Column index\n",
        "\n",
        "                if i == j:\n",
        "                    # Apply Rz gate for first-order terms\n",
        "                    rz(2.0 * value * thetas[layer], qvector[i])\n",
        "                elif i < j:\n",
        "                    # Apply CNOT-Rz-CNOT for second-order terms\n",
        "                    x.ctrl(qvector[i], qvector[j])\n",
        "                    rz(2.0 * value * thetas[layer], qvector[j])\n",
        "                    x.ctrl(qvector[i], qvector[j])\n",
        "\n",
        "        # Mixer unitary\n",
        "        for qubit in range(qubit_count):\n",
        "            rx(2.0 * thetas[layer + layer_count], qvector[qubit])\n",
        "\n",
        "\n",
        "# Specify the initial parameters and visualize the kernel\n",
        "np.random.seed(13)\n",
        "initial_parameters = np.random.uniform(-np.pi / 8.0, np.pi / 8.0, parameter_count)\n",
        "print(\"Initial parameters = \", initial_parameters)\n",
        "print(cudaq.draw(kernel_qaoa, initial_parameters))"
      ]
    },
    {
      "cell_type": "code",
      "source": [
        "# Optimize through cudaq-solver with the GPU backend\n",
        "\n",
        "#cudaq.set_target('qpp-cpu')  # Use 'qpp-cpu' for simulation on CPU\n",
        "\n",
        "expectation, optimized_parameters, _ = solvers.vqe(kernel_qaoa,\n",
        "                                              hamiltonian,\n",
        "                                              initial_parameters,\n",
        "                                              optimizer=minimize,\n",
        "                                              method='L-BFGS-B',\n",
        "                                              jac='3-point',\n",
        "                                              tol=1e-5,\n",
        "                                              options={'disp': True})\n",
        "print(f'Final  = {expectation}')"
      ],
      "metadata": {
        "colab": {
          "base_uri": "https://localhost:8080/"
        },
        "id": "jHKNUZBP8sF0",
        "outputId": "b54b988f-10bd-4d02-eaf5-9a76c1a30892"
      },
      "execution_count": 12,
      "outputs": [
        {
          "output_type": "stream",
          "name": "stdout",
          "text": [
            "Final  = -3.2468595165487435\n"
          ]
        }
      ]
    },
    {
      "cell_type": "code",
      "source": [
        "# Sample the circuit using the optimized parameters and find the most probable bitstring with the maximum cut value\n",
        "counts = cudaq.sample(kernel_qaoa, optimized_parameters, shots_count=2**(qubit_count+5))\n",
        "print(counts.most_probable())"
      ],
      "metadata": {
        "colab": {
          "base_uri": "https://localhost:8080/"
        },
        "id": "6IONl51dxGn7",
        "outputId": "3fd43c2a-fe69-4918-d0d6-cc1a3c96dd70"
      },
      "execution_count": 13,
      "outputs": [
        {
          "output_type": "stream",
          "name": "stdout",
          "text": [
            "01010\n"
          ]
        }
      ]
    }
  ],
  "metadata": {
    "colab": {
      "provenance": [],
      "include_colab_link": true
    },
    "kernelspec": {
      "display_name": "Python 3",
      "name": "python3"
    },
    "language_info": {
      "name": "python"
    }
  },
  "nbformat": 4,
  "nbformat_minor": 0
}